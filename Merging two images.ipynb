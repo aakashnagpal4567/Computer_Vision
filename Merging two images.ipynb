{
 "cells": [
  {
   "cell_type": "code",
   "execution_count": 9,
   "metadata": {},
   "outputs": [],
   "source": [
    "#Importing the Libraries\n",
    "import cv2\n",
    "import numpy as np"
   ]
  },
  {
   "cell_type": "code",
   "execution_count": 10,
   "metadata": {},
   "outputs": [],
   "source": [
    "#Read the Image1\n",
    "photo1=cv2.imread('aakash1.jpg')\n",
    "#Read the Image2\n",
    "photo2=cv2.imread('aakash.jpg')"
   ]
  },
  {
   "cell_type": "code",
   "execution_count": 11,
   "metadata": {},
   "outputs": [],
   "source": [
    "#Show the both Image together\n",
    "#Show the Image1\n",
    "cv2.imshow(\"First Image\",photo1)\n",
    "#Show the Image2\n",
    "cv2.imshow(\"Second Image\",photo2)\n",
    "#Hold the Images\n",
    "cv2.waitKey()\n",
    "#Destroy the windows\n",
    "cv2.destroyAllWindows()"
   ]
  },
  {
   "cell_type": "code",
   "execution_count": 12,
   "metadata": {},
   "outputs": [],
   "source": [
    "#Merging both images-->mergeImage=photo1+photo2 horizontally\n",
    "MergeImage=np.hstack((photo1,photo2))"
   ]
  },
  {
   "cell_type": "code",
   "execution_count": 13,
   "metadata": {},
   "outputs": [],
   "source": [
    "# Show Merged Image\n",
    "cv2.imshow(\"Merged Image\",MergeImage)\n",
    "#Hold the Images\n",
    "cv2.waitKey()\n",
    "#Destroy the windows\n",
    "cv2.destroyAllWindows()"
   ]
  },
  {
   "cell_type": "code",
   "execution_count": null,
   "metadata": {},
   "outputs": [],
   "source": []
  }
 ],
 "metadata": {
  "kernelspec": {
   "display_name": "Python 3",
   "language": "python",
   "name": "python3"
  },
  "language_info": {
   "codemirror_mode": {
    "name": "ipython",
    "version": 3
   },
   "file_extension": ".py",
   "mimetype": "text/x-python",
   "name": "python",
   "nbconvert_exporter": "python",
   "pygments_lexer": "ipython3",
   "version": "3.8.3"
  }
 },
 "nbformat": 4,
 "nbformat_minor": 4
}
