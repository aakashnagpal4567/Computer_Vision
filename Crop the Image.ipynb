{
 "cells": [
  {
   "cell_type": "code",
   "execution_count": 1,
   "metadata": {},
   "outputs": [],
   "source": [
    "import cv2"
   ]
  },
  {
   "cell_type": "code",
   "execution_count": 2,
   "metadata": {},
   "outputs": [],
   "source": [
    "#Read the Image\n",
    "photo=cv2.imread('aakash1.jpg')"
   ]
  },
  {
   "cell_type": "code",
   "execution_count": 3,
   "metadata": {},
   "outputs": [
    {
     "data": {
      "text/plain": [
       "array([[[146, 156, 173],\n",
       "        [146, 156, 173],\n",
       "        [146, 156, 173],\n",
       "        ...,\n",
       "        [133, 130, 109],\n",
       "        [141, 138, 117],\n",
       "        [143, 140, 119]],\n",
       "\n",
       "       [[146, 156, 173],\n",
       "        [144, 157, 173],\n",
       "        [143, 156, 172],\n",
       "        ...,\n",
       "        [136, 133, 112],\n",
       "        [143, 140, 119],\n",
       "        [145, 142, 121]],\n",
       "\n",
       "       [[144, 157, 173],\n",
       "        [141, 156, 172],\n",
       "        [141, 155, 173],\n",
       "        ...,\n",
       "        [139, 135, 116],\n",
       "        [146, 143, 122],\n",
       "        [147, 144, 123]],\n",
       "\n",
       "       ...,\n",
       "\n",
       "       [[ 79,  70,  56],\n",
       "        [ 79,  70,  56],\n",
       "        [ 77,  68,  54],\n",
       "        ...,\n",
       "        [ 68,  64,  63],\n",
       "        [ 59,  55,  54],\n",
       "        [ 51,  47,  46]],\n",
       "\n",
       "       [[ 80,  71,  57],\n",
       "        [ 79,  70,  56],\n",
       "        [ 76,  67,  53],\n",
       "        ...,\n",
       "        [ 70,  65,  64],\n",
       "        [ 61,  56,  55],\n",
       "        [ 53,  48,  47]],\n",
       "\n",
       "       [[ 80,  71,  57],\n",
       "        [ 79,  70,  56],\n",
       "        [ 76,  67,  53],\n",
       "        ...,\n",
       "        [ 72,  67,  66],\n",
       "        [ 63,  58,  57],\n",
       "        [ 55,  50,  49]]], dtype=uint8)"
      ]
     },
     "execution_count": 3,
     "metadata": {},
     "output_type": "execute_result"
    }
   ],
   "source": [
    "photo"
   ]
  },
  {
   "cell_type": "code",
   "execution_count": 6,
   "metadata": {},
   "outputs": [],
   "source": [
    "#show the real image\n",
    "cv2.imshow(\"my photo\",photo)\n",
    "cv2.waitKey()\n",
    "cv2.destroyAllWindows()"
   ]
  },
  {
   "cell_type": "code",
   "execution_count": 5,
   "metadata": {},
   "outputs": [
    {
     "data": {
      "text/plain": [
       "(1040, 780, 3)"
      ]
     },
     "execution_count": 5,
     "metadata": {},
     "output_type": "execute_result"
    }
   ],
   "source": [
    "#Shape of image\n",
    "photo.shape"
   ]
  },
  {
   "cell_type": "code",
   "execution_count": 21,
   "metadata": {},
   "outputs": [],
   "source": [
    "#Crop the Image\n",
    "cphoto=photo[320:700,200:450]\n",
    "#Show the Crop Image\n",
    "cv2.imshow(\"my photo\",cphoto)\n",
    "cv2.waitKey()\n",
    "cv2.destroyAllWindows()"
   ]
  },
  {
   "cell_type": "code",
   "execution_count": 20,
   "metadata": {},
   "outputs": [],
   "source": []
  },
  {
   "cell_type": "code",
   "execution_count": null,
   "metadata": {},
   "outputs": [],
   "source": []
  }
 ],
 "metadata": {
  "kernelspec": {
   "display_name": "Python 3",
   "language": "python",
   "name": "python3"
  },
  "language_info": {
   "codemirror_mode": {
    "name": "ipython",
    "version": 3
   },
   "file_extension": ".py",
   "mimetype": "text/x-python",
   "name": "python",
   "nbconvert_exporter": "python",
   "pygments_lexer": "ipython3",
   "version": "3.8.3"
  }
 },
 "nbformat": 4,
 "nbformat_minor": 4
}
