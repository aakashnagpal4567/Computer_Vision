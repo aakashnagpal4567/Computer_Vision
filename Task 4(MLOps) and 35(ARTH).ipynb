{
 "cells": [
  {
   "cell_type": "code",
   "execution_count": 1,
   "metadata": {},
   "outputs": [],
   "source": [
    "#Importing the Required Libraries\n",
    "import cv2\n",
    "import numpy"
   ]
  },
  {
   "cell_type": "code",
   "execution_count": null,
   "metadata": {},
   "outputs": [],
   "source": [
    "#TASK: 35.1 AND 4.1\n",
    "#CREATE AN IMAGE BY YOURSELF USING PYTHON CODE"
   ]
  },
  {
   "cell_type": "code",
   "execution_count": 2,
   "metadata": {},
   "outputs": [],
   "source": [
    "#Create an Black Image\n",
    "img=numpy.zeros((800,1000,3))"
   ]
  },
  {
   "cell_type": "code",
   "execution_count": 3,
   "metadata": {},
   "outputs": [
    {
     "data": {
      "text/plain": [
       "array([[[  0.,   0.,   0.],\n",
       "        [  0.,   0.,   0.],\n",
       "        [  0.,   0.,   0.],\n",
       "        ...,\n",
       "        [  0.,   0.,   0.],\n",
       "        [  0.,   0.,   0.],\n",
       "        [  0.,   0.,   0.]],\n",
       "\n",
       "       [[  0.,   0.,   0.],\n",
       "        [  0.,   0.,   0.],\n",
       "        [  0.,   0.,   0.],\n",
       "        ...,\n",
       "        [  0.,   0.,   0.],\n",
       "        [  0.,   0.,   0.],\n",
       "        [  0.,   0.,   0.]],\n",
       "\n",
       "       [[  0.,   0.,   0.],\n",
       "        [  0.,   0.,   0.],\n",
       "        [  0.,   0.,   0.],\n",
       "        ...,\n",
       "        [  0.,   0.,   0.],\n",
       "        [  0.,   0.,   0.],\n",
       "        [  0.,   0.,   0.]],\n",
       "\n",
       "       ...,\n",
       "\n",
       "       [[  0.,   0., 255.],\n",
       "        [  0.,   0., 255.],\n",
       "        [  0.,   0., 255.],\n",
       "        ...,\n",
       "        [127.,   0., 127.],\n",
       "        [127.,   0., 127.],\n",
       "        [127.,   0., 127.]],\n",
       "\n",
       "       [[  0.,   0., 255.],\n",
       "        [  0.,   0., 255.],\n",
       "        [  0.,   0., 255.],\n",
       "        ...,\n",
       "        [127.,   0., 127.],\n",
       "        [127.,   0., 127.],\n",
       "        [127.,   0., 127.]],\n",
       "\n",
       "       [[  0.,   0., 255.],\n",
       "        [  0.,   0., 255.],\n",
       "        [  0.,   0., 255.],\n",
       "        ...,\n",
       "        [127.,   0., 127.],\n",
       "        [127.,   0., 127.],\n",
       "        [127.,   0., 127.]]])"
      ]
     },
     "execution_count": 3,
     "metadata": {},
     "output_type": "execute_result"
    }
   ],
   "source": [
    "#Created a Image Using Python Code\n",
    "cv2.line(img,(130,0),(130,200),[0,0,255],3)\n",
    "cv2.circle(img,(130,270),70,[0,0,255],-1)\n",
    "cv2.line(img,(300,0),(300,200),[255,0,0],3)\n",
    "cv2.circle(img,(300,270),70,[255,0,0],-1)\n",
    "cv2.line(img,(470,0),(470,200),[0,255,0],3)\n",
    "cv2.circle(img,(470,270),70,[0,255,0],-1)\n",
    "cv2.line(img,(600,0),(680,200),[0,255,127],3)\n",
    "cv2.circle(img,(700,270),70,[0,255,127],-1)\n",
    "cv2.circle(img,(0,800),100,[0,0,255],-1)\n",
    "cv2.circle(img,(200,800),100,[0,127,0],-1)\n",
    "cv2.circle(img,(400,800),100,[255,0,0],-1)\n",
    "cv2.circle(img,(600,800),100,[0,127,255],-1)\n",
    "cv2.circle(img,(800,800),100,[0,127,255],-1)\n",
    "cv2.circle(img,(0,600),100,[127,0,255],-1)\n",
    "cv2.circle(img,(0,600),100,[127,0,255],-1)\n",
    "cv2.circle(img,(200,600),100,[0,127,255],-1)\n",
    "cv2.circle(img,(400,600),100,[17,255,145],-1)\n",
    "cv2.circle(img,(600,600),100,[255,127,0],-1)\n",
    "cv2.circle(img,(600,800),100,[255,127,0],-1)\n",
    "cv2.circle(img,(800,600),100,[127,0,0],-1)\n",
    "cv2.circle(img,(100,700),70,[127,0,0],-1)\n",
    "cv2.circle(img,(300,700),70,[127,0,127],-1)\n",
    "cv2.circle(img,(500,700),70,[0,127,0],-1)\n",
    "cv2.circle(img,(700,700),70,[0,0,127],-1)\n",
    "cv2.circle(img,(1000,700),120,[127,0,127],-1)\n",
    "cv2.line(img,(0,500),(1000,500),[0,255,0],2)\n",
    "\n"
   ]
  },
  {
   "cell_type": "code",
   "execution_count": 4,
   "metadata": {},
   "outputs": [],
   "source": [
    "#Showing My own Created Image\n",
    "cv2.imshow(\"hi\",img)\n",
    "cv2.waitKey()\n",
    "cv2.destroyAllWindows()"
   ]
  },
  {
   "cell_type": "code",
   "execution_count": 5,
   "metadata": {},
   "outputs": [],
   "source": [
    "#TASK: 35.2 AND 4.2\n",
    "#Take 2 images crop some part of both image and swap it"
   ]
  },
  {
   "cell_type": "code",
   "execution_count": 6,
   "metadata": {},
   "outputs": [],
   "source": [
    "#Reading the Images\n",
    "iron=cv2.imread('ironman.jpg')\n",
    "capt=cv2.imread('capamer.jpg')"
   ]
  },
  {
   "cell_type": "code",
   "execution_count": 7,
   "metadata": {},
   "outputs": [],
   "source": [
    "#Show the Images\n",
    "cv2.imshow('Iron Man',iron)\n",
    "cv2.imshow(\"Captain America\",capt)\n",
    "cv2.waitKey()\n",
    "cv2.destroyAllWindows()"
   ]
  },
  {
   "cell_type": "code",
   "execution_count": 8,
   "metadata": {},
   "outputs": [],
   "source": [
    "#Change the shape of images, Make equal size of images\n",
    "iron=iron[:,0:163]\n",
    "capt=capt[0:267,:]\n"
   ]
  },
  {
   "cell_type": "code",
   "execution_count": 9,
   "metadata": {},
   "outputs": [],
   "source": [
    "#Swap the Images\n",
    "\"\"\"Formula\n",
    "   a=a+b\n",
    "   b=a-b\n",
    "   a=a-b\n",
    "     \"\"\"\n",
    "iron[0:100,60:150]= iron[0:100,60:150] +capt[0:100,60:150]\n",
    "capt[0:100,60:150] =iron[0:100,60:150] -capt[0:100,60:150] \n",
    "iron[0:100,60:150] =iron[0:100,60:150]-capt[0:100,60:150]"
   ]
  },
  {
   "cell_type": "code",
   "execution_count": 10,
   "metadata": {},
   "outputs": [],
   "source": [
    "#Showing the Swapped Images\n",
    "cv2.imshow('Iron Man',iron)\n",
    "cv2.imshow(\"Captain America\",capt)\n",
    "cv2.waitKey()\n",
    "cv2.destroyAllWindows()"
   ]
  },
  {
   "cell_type": "code",
   "execution_count": 12,
   "metadata": {},
   "outputs": [],
   "source": [
    "#TASK 35.3 and 4.3\n",
    "#Take Images and Combine it to form a single image."
   ]
  },
  {
   "cell_type": "code",
   "execution_count": 13,
   "metadata": {},
   "outputs": [],
   "source": [
    "#Again Read the Images to make Collage\n",
    "ir=cv2.imread('ironman.jpg')\n",
    "ca=cv2.imread('capamer.jpg')\n",
    "ir=ir[:,0:163]\n",
    "ca=ca[0:267,:]"
   ]
  },
  {
   "cell_type": "code",
   "execution_count": 14,
   "metadata": {},
   "outputs": [],
   "source": [
    "#Merging Image Horizontally\n",
    "h=numpy.hstack((ir,ca))\n",
    "#Merging Image Vertically\n",
    "v=numpy.vstack((ir,ca))"
   ]
  },
  {
   "cell_type": "code",
   "execution_count": 15,
   "metadata": {},
   "outputs": [],
   "source": [
    "#Showing The Collage\n",
    "cv2.imshow('Iron Man',h)\n",
    "cv2.imshow(\"Captain America\",v)\n",
    "cv2.waitKey()\n",
    "cv2.destroyAllWindows()"
   ]
  },
  {
   "cell_type": "code",
   "execution_count": null,
   "metadata": {},
   "outputs": [],
   "source": []
  },
  {
   "cell_type": "code",
   "execution_count": null,
   "metadata": {},
   "outputs": [],
   "source": []
  },
  {
   "cell_type": "code",
   "execution_count": null,
   "metadata": {},
   "outputs": [],
   "source": []
  },
  {
   "cell_type": "code",
   "execution_count": null,
   "metadata": {},
   "outputs": [],
   "source": [
    "\n"
   ]
  },
  {
   "cell_type": "code",
   "execution_count": null,
   "metadata": {},
   "outputs": [],
   "source": []
  },
  {
   "cell_type": "code",
   "execution_count": null,
   "metadata": {},
   "outputs": [],
   "source": []
  },
  {
   "cell_type": "code",
   "execution_count": null,
   "metadata": {},
   "outputs": [],
   "source": []
  },
  {
   "cell_type": "code",
   "execution_count": null,
   "metadata": {},
   "outputs": [],
   "source": []
  }
 ],
 "metadata": {
  "kernelspec": {
   "display_name": "Python 3",
   "language": "python",
   "name": "python3"
  },
  "language_info": {
   "codemirror_mode": {
    "name": "ipython",
    "version": 3
   },
   "file_extension": ".py",
   "mimetype": "text/x-python",
   "name": "python",
   "nbconvert_exporter": "python",
   "pygments_lexer": "ipython3",
   "version": "3.8.3"
  }
 },
 "nbformat": 4,
 "nbformat_minor": 4
}
