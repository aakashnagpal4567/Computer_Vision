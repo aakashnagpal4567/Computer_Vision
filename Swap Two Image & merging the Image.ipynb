{
 "cells": [
  {
   "cell_type": "code",
   "execution_count": 64,
   "metadata": {},
   "outputs": [],
   "source": [
    "#import the library-->cv2\n",
    "import cv2"
   ]
  },
  {
   "cell_type": "code",
   "execution_count": 65,
   "metadata": {},
   "outputs": [],
   "source": [
    "#Read the Image1\n",
    "photo1=cv2.imread('aakash1.jpg')"
   ]
  },
  {
   "cell_type": "code",
   "execution_count": 66,
   "metadata": {},
   "outputs": [],
   "source": [
    "#Read the Image2\n",
    "photo2=cv2.imread('aakash.jpg')"
   ]
  },
  {
   "cell_type": "code",
   "execution_count": 67,
   "metadata": {},
   "outputs": [],
   "source": [
    "#showing the Image1\n",
    "cv2.imshow(\"1st Photo\",photo1)\n",
    "#showing the Image2\n",
    "cv2.imshow(\"2nd Photo\",photo2)\n",
    "#Hold Image for a given time\n",
    "cv2.waitKey()\n",
    "# Close the window\n",
    "cv2.destroyAllWindows()"
   ]
  },
  {
   "cell_type": "code",
   "execution_count": 68,
   "metadata": {},
   "outputs": [
    {
     "data": {
      "text/plain": [
       "(1040, 780, 3)"
      ]
     },
     "execution_count": 68,
     "metadata": {},
     "output_type": "execute_result"
    }
   ],
   "source": [
    "#Shape of Image 1\n",
    "photo1.shape"
   ]
  },
  {
   "cell_type": "code",
   "execution_count": 69,
   "metadata": {},
   "outputs": [
    {
     "data": {
      "text/plain": [
       "(1040, 780, 3)"
      ]
     },
     "execution_count": 69,
     "metadata": {},
     "output_type": "execute_result"
    }
   ],
   "source": [
    "#Shape of Image 2\n",
    "photo2.shape"
   ]
  },
  {
   "cell_type": "code",
   "execution_count": 70,
   "metadata": {},
   "outputs": [],
   "source": [
    "#import the numpy library\n",
    "import numpy as np"
   ]
  },
  {
   "cell_type": "code",
   "execution_count": 73,
   "metadata": {},
   "outputs": [],
   "source": [
    "#Merge Two Images\n",
    "h1=np.hstack((photo1,photo2))"
   ]
  },
  {
   "cell_type": "code",
   "execution_count": 74,
   "metadata": {},
   "outputs": [
    {
     "data": {
      "text/plain": [
       "(1040, 1560, 3)"
      ]
     },
     "execution_count": 74,
     "metadata": {},
     "output_type": "execute_result"
    }
   ],
   "source": [
    "h1.shape"
   ]
  },
  {
   "cell_type": "code",
   "execution_count": 75,
   "metadata": {},
   "outputs": [],
   "source": [
    "#Show Merge Image\n",
    "cv2.imshow(\"2nd Photo\",h1)\n",
    "#Hold the Image\n",
    "cv2.waitKey()\n",
    "#Destroy the window\n",
    "cv2.destroyAllWindows()"
   ]
  },
  {
   "cell_type": "code",
   "execution_count": 76,
   "metadata": {},
   "outputs": [],
   "source": [
    "#Swap the part of Image\n",
    "\"\"\"\n",
    "Logic:-->\n",
    "a=a+b\n",
    "b=a-b\n",
    "a=a-b\n",
    "\"\"\"\n",
    "\n",
    "photo1[100:400,200:600]=photo1[100:400,200:600]+photo2[100:400,200:600]\n",
    "photo2[100:400,200:600]=photo1[100:400,200:600]-photo2[100:400,200:600]\n",
    "photo1[100:400,200:600]=photo1[100:400,200:600]-photo2[100:400,200:600]"
   ]
  },
  {
   "cell_type": "code",
   "execution_count": 77,
   "metadata": {},
   "outputs": [],
   "source": [
    "#Show Swapped image1\n",
    "cv2.imshow(\"1st Photo\",photo1)\n",
    "#Show Swapped Image2\n",
    "cv2.imshow(\"2nd Photo\",photo2)\n",
    "#Hold the image \n",
    "cv2.waitKey()\n",
    "#destroy the window\n",
    "cv2.destroyAllWindows()"
   ]
  },
  {
   "cell_type": "code",
   "execution_count": null,
   "metadata": {},
   "outputs": [],
   "source": []
  }
 ],
 "metadata": {
  "kernelspec": {
   "display_name": "Python 3",
   "language": "python",
   "name": "python3"
  },
  "language_info": {
   "codemirror_mode": {
    "name": "ipython",
    "version": 3
   },
   "file_extension": ".py",
   "mimetype": "text/x-python",
   "name": "python",
   "nbconvert_exporter": "python",
   "pygments_lexer": "ipython3",
   "version": "3.8.3"
  }
 },
 "nbformat": 4,
 "nbformat_minor": 4
}
