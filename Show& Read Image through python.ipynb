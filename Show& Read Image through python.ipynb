{
 "cells": [
  {
   "cell_type": "code",
   "execution_count": 7,
   "metadata": {},
   "outputs": [],
   "source": [
    "import cv2"
   ]
  },
  {
   "cell_type": "code",
   "execution_count": 8,
   "metadata": {},
   "outputs": [],
   "source": [
    "#Read photo\n",
    "photo=cv2.imread('aakash.jpg')"
   ]
  },
  {
   "cell_type": "code",
   "execution_count": 9,
   "metadata": {},
   "outputs": [],
   "source": [
    "#Show the photo\n",
    "cv2.imshow(\"my photo\",photo)\n",
    "cv2.waitKey()\n",
    "cv2.destroyAllWindows()"
   ]
  },
  {
   "cell_type": "code",
   "execution_count": 6,
   "metadata": {},
   "outputs": [
    {
     "data": {
      "text/plain": [
       "array([[[178, 190, 178],\n",
       "        [178, 190, 178],\n",
       "        [177, 189, 177],\n",
       "        ...,\n",
       "        [ 54,  62,  75],\n",
       "        [ 54,  62,  75],\n",
       "        [ 53,  61,  74]],\n",
       "\n",
       "       [[178, 190, 178],\n",
       "        [178, 190, 178],\n",
       "        [177, 189, 177],\n",
       "        ...,\n",
       "        [ 54,  62,  75],\n",
       "        [ 54,  62,  75],\n",
       "        [ 53,  61,  74]],\n",
       "\n",
       "       [[177, 189, 177],\n",
       "        [177, 189, 177],\n",
       "        [177, 189, 177],\n",
       "        ...,\n",
       "        [ 54,  62,  75],\n",
       "        [ 54,  62,  75],\n",
       "        [ 54,  62,  75]],\n",
       "\n",
       "       ...,\n",
       "\n",
       "       [[169, 178, 175],\n",
       "        [164, 173, 170],\n",
       "        [155, 164, 161],\n",
       "        ...,\n",
       "        [ 85,  90,  93],\n",
       "        [ 88,  93,  96],\n",
       "        [ 90,  95,  98]],\n",
       "\n",
       "       [[167, 176, 173],\n",
       "        [167, 176, 173],\n",
       "        [167, 176, 173],\n",
       "        ...,\n",
       "        [ 87,  92,  95],\n",
       "        [ 90,  95,  98],\n",
       "        [ 93,  98, 101]],\n",
       "\n",
       "       [[124, 133, 130],\n",
       "        [132, 141, 138],\n",
       "        [143, 152, 149],\n",
       "        ...,\n",
       "        [ 89,  94,  97],\n",
       "        [ 92,  97, 100],\n",
       "        [ 96, 101, 104]]], dtype=uint8)"
      ]
     },
     "execution_count": 6,
     "metadata": {},
     "output_type": "execute_result"
    }
   ],
   "source": [
    "photo"
   ]
  },
  {
   "cell_type": "code",
   "execution_count": null,
   "metadata": {},
   "outputs": [],
   "source": []
  }
 ],
 "metadata": {
  "kernelspec": {
   "display_name": "Python 3",
   "language": "python",
   "name": "python3"
  },
  "language_info": {
   "codemirror_mode": {
    "name": "ipython",
    "version": 3
   },
   "file_extension": ".py",
   "mimetype": "text/x-python",
   "name": "python",
   "nbconvert_exporter": "python",
   "pygments_lexer": "ipython3",
   "version": "3.8.3"
  }
 },
 "nbformat": 4,
 "nbformat_minor": 4
}
